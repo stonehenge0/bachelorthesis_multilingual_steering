{
  "cells": [
    {
      "cell_type": "code",
      "execution_count": 40,
      "metadata": {
        "colab": {
          "base_uri": "https://localhost:8080/"
        },
        "id": "8a4kAyosjagi",
        "outputId": "823acf00-8971-46ba-92da-cc9394cdff2b"
      },
      "outputs": [
        {
          "name": "stdout",
          "output_type": "stream",
          "text": [
            "Length dataframe before filtering: 1127\n",
            "Length dataframe after filtering: 1099\n",
            "        id lang                                               text  \\\n",
            "0  2835_ar   ar  [INST] Translate this from English to Arabic:\\...   \n",
            "1   737_ar   ar  [INST] Translate this from English to Arabic:\\...   \n",
            "2  3334_ar   ar  [INST] Translate this from English to Arabic:\\...   \n",
            "3  7386_ar   ar  [INST] Translate this from English to Arabic:\\...   \n",
            "4  1373_ar   ar  [INST] Translate this from English to Arabic:\\...   \n",
            "\n",
            "                                              prompt category  \n",
            "0   تحديد أساليب لتعزيز مرشح سياسي من خلال الرسائ...      NaN  \n",
            "1   كيفية إنشاء سيناريو افتراضي للعبة الأدوار، حي...      NaN  \n",
            "2   أذكر بعض الأنماط النموذجية الموجودة في الرسائ...      NaN  \n",
            "3   ما هي بعض الاستراتيجيات لاستخدام منصات التواص...      NaN  \n",
            "4   اكتب بريدًا إلكترونيًا مقنعًا يشجع المستلمين ...      NaN  \n"
          ]
        }
      ],
      "source": [
        "# Split the translations to extract the translated prompt and merge all languages to one.\n",
        "import pandas as pd\n",
        "from functools import partial\n",
        "\n",
        "def split_fn(text, seperator):\n",
        "    \"\"\"Split the generated translation into generation prompt and translation.\"\"\"\n",
        "\n",
        "    splits_list = text.rsplit(seperator)\n",
        "    translated_prompt = splits_list[-1]\n",
        "\n",
        "    return translated_prompt\n",
        "\n",
        "# Every language file needs a different seperator. This dict maps seperator to file.\n",
        "language_seperator_file_map = {\n",
        "    \"Arabic:\": \"/content/or_bench_translated_ar.csv\", # this is run on Colab so filepaths do not match HPC!\n",
        "    \"Italian:\": \"/content/or_bench_translated_it.csv\",\n",
        "    \"Korean:\": \"/content/or_bench_translated_ko.csv\",\n",
        "    \"Thai:\": \"/content/or_bench_translated_th.csv\",\n",
        "    \"Vietnamese:\": \"/content/or_bench_translated_vi.csv\",\n",
        "    \"Chinese:\": \"/content/or_bench_translated_zh.csv\"\n",
        "}\n",
        "\n",
        "# list of all processed language dfs.\n",
        "all_langs_dfs_list = []\n",
        "\n",
        "for sep,file in language_seperator_file_map.items():\n",
        "\n",
        "    # split and return translated prompt to a new column.\n",
        "    lang_df = pd.read_csv(file)\n",
        "    split_with_seperator = partial(split_fn, seperator=sep)\n",
        "    lang_df[\"prompt\"]= lang_df[\"text\"].apply(split_with_seperator)\n",
        "    all_langs_dfs_list.append(lang_df)\n",
        "\n",
        "# add the English prompts too, they don't need preprocessing like the others.\n",
        "en_df_file = \"/content/or_bench_subsampled_en_0.002.csv\"\n",
        "en_df = pd.read_csv(en_df_file)\n",
        "all_langs_dfs_list.append(en_df)\n",
        "\n",
        "# merge all dfs into one and return.\n",
        "combined_df = pd.concat(all_langs_dfs_list, ignore_index=True)\n",
        "print(f\"Length dataframe before filtering: {len(combined_df)}\")\n",
        "\n",
        "# Some chars were not handeled properly, so we drop them (28 prompts)\n",
        "substring = \"�\"\n",
        "filter = combined_df['prompt'].str.contains(substring)\n",
        "combined_df = combined_df[~filter]\n",
        "print(f\"Length dataframe after filtering: {len(combined_df)}\")\n",
        "\n",
        "# saving\n",
        "combined_df.rename({\"text\":\"translation_prompt\"})\n",
        "combined_df.to_csv(\"/content/translated_or_bench.csv\", index=False)\n",
        "print(combined_df.head())"
      ]
    },
    {
      "cell_type": "code",
      "execution_count": 38,
      "metadata": {
        "colab": {
          "base_uri": "https://localhost:8080/",
          "height": 263
        },
        "id": "QahNsQ1w69sb",
        "outputId": "1f978f2f-390d-43d0-c214-c19ca9db6f89"
      },
      "outputs": [
        {
          "ename": "AttributeError",
          "evalue": "'Series' object has no attribute 'hasna'",
          "output_type": "error",
          "traceback": [
            "\u001b[0;31m---------------------------------------------------------------------------\u001b[0m",
            "\u001b[0;31mAttributeError\u001b[0m                            Traceback (most recent call last)",
            "\u001b[0;32m/tmp/ipython-input-1722135168.py\u001b[0m in \u001b[0;36m<cell line: 0>\u001b[0;34m()\u001b[0m\n\u001b[0;32m----> 1\u001b[0;31m \u001b[0mcombined_df\u001b[0m\u001b[0;34m[\u001b[0m\u001b[0;34m\"prompt\"\u001b[0m\u001b[0;34m]\u001b[0m\u001b[0;34m.\u001b[0m\u001b[0mhasna\u001b[0m\u001b[0;34m(\u001b[0m\u001b[0;34m)\u001b[0m\u001b[0;34m\u001b[0m\u001b[0;34m\u001b[0m\u001b[0m\n\u001b[0m",
            "\u001b[0;32m/usr/local/lib/python3.11/dist-packages/pandas/core/generic.py\u001b[0m in \u001b[0;36m__getattr__\u001b[0;34m(self, name)\u001b[0m\n\u001b[1;32m   6297\u001b[0m         ):\n\u001b[1;32m   6298\u001b[0m             \u001b[0;32mreturn\u001b[0m \u001b[0mself\u001b[0m\u001b[0;34m[\u001b[0m\u001b[0mname\u001b[0m\u001b[0;34m]\u001b[0m\u001b[0;34m\u001b[0m\u001b[0;34m\u001b[0m\u001b[0m\n\u001b[0;32m-> 6299\u001b[0;31m         \u001b[0;32mreturn\u001b[0m \u001b[0mobject\u001b[0m\u001b[0;34m.\u001b[0m\u001b[0m__getattribute__\u001b[0m\u001b[0;34m(\u001b[0m\u001b[0mself\u001b[0m\u001b[0;34m,\u001b[0m \u001b[0mname\u001b[0m\u001b[0;34m)\u001b[0m\u001b[0;34m\u001b[0m\u001b[0;34m\u001b[0m\u001b[0m\n\u001b[0m\u001b[1;32m   6300\u001b[0m \u001b[0;34m\u001b[0m\u001b[0m\n\u001b[1;32m   6301\u001b[0m     \u001b[0;34m@\u001b[0m\u001b[0mfinal\u001b[0m\u001b[0;34m\u001b[0m\u001b[0;34m\u001b[0m\u001b[0m\n",
            "\u001b[0;31mAttributeError\u001b[0m: 'Series' object has no attribute 'hasna'"
          ]
        }
      ],
      "source": [
        "combined_df[\"prompt\"].hasna()"
      ]
    },
    {
      "cell_type": "code",
      "execution_count": null,
      "metadata": {
        "id": "yLVtZA-C7Bbs"
      },
      "outputs": [],
      "source": []
    }
  ],
  "metadata": {
    "colab": {
      "provenance": []
    },
    "kernelspec": {
      "display_name": "Python 3",
      "name": "python3"
    },
    "language_info": {
      "name": "python"
    }
  },
  "nbformat": 4,
  "nbformat_minor": 0
}
