{
 "cells": [
  {
   "cell_type": "markdown",
   "id": "ef3e1da9",
   "metadata": {},
   "source": [
    "### Visualize the results across tasks and steering strengths."
   ]
  },
  {
   "cell_type": "markdown",
   "id": "4837ea28",
   "metadata": {},
   "source": [
    "#### Read in data"
   ]
  },
  {
   "cell_type": "code",
   "execution_count": null,
   "id": "c1193eab",
   "metadata": {},
   "outputs": [],
   "source": [
    "import pandas as pd\n",
    "\n",
    "# Task identifier and corresponding file paths\n",
    "df_filepaths = {\n",
    "   \"multijail_baseline\": \"/scratch1/users/u14374/bachelorarbeit/bachelorthesis_multilingual_steering/results/tmp_judged_responses/multijail_baseline_judged.csv\",\n",
    "   \"multijail_L11_S0.33\": \"/scratch1/users/u14374/bachelorarbeit/bachelorthesis_multilingual_steering/results/tmp_judged_responses/multijail_L11_S0.33_judged.csv\",\n",
    "   \"multijail_L11_S0.66\": \"/scratch1/users/u14374/bachelorarbeit/bachelorthesis_multilingual_steering/results/tmp_judged_responses/multijail_L11_S0.66_judged.csv\",\n",
    "   \"multijail_L11_S1.0\": \"/scratch1/users/u14374/bachelorarbeit/bachelorthesis_multilingual_steering/results/tmp_judged_responses/multijail_L11_S1.0_judged.csv\",\n",
    "   \"or_bench_baseline\": \"/scratch1/users/u14374/bachelorarbeit/bachelorthesis_multilingual_steering/results/tmp_judged_responses/or_bench_baseline_judged.csv\",\n",
    "   \"or_bench_L11_S0.33\": \"/scratch1/users/u14374/bachelorarbeit/bachelorthesis_multilingual_steering/results/tmp_judged_responses/or_bench_L11_S0.33_judged.csv\",\n",
    "   \"or_bench_L11_S0.66\": \"/scratch1/users/u14374/bachelorarbeit/bachelorthesis_multilingual_steering/results/tmp_judged_responses/or_bench_L11_S0.66_judged.csv\",\n",
    "   \"or_bench_L11_S1.0\": \"/scratch1/users/u14374/bachelorarbeit/bachelorthesis_multilingual_steering/results/tmp_judged_responses/or_bench_L11_S1.0_judged.csv\"\n",
    "}\n",
    "\n",
    "# depending on how well the judge did its task, we count with value count or with str contains.\n",
    "def count_safe_unsafe_invalid_counts(df):\n",
    "    \"\"\"Count occurrences of 'safe', 'unsafe', and 'invalid' in the 'llm_judgement' column using value_counts().\"\"\"\n",
    "    counts = df['llm_judgement'].value_counts()\n",
    "\n",
    "    total_count = counts.sum()\n",
    "    print(total_count, \"total responses counted.\")\n",
    "    print(len(df), \"total responses in dataframe.\")\n",
    "    return counts.get('safe', 0), counts.get('unsafe', 0), counts.get('invalid', 0) ## macht die Null hier irgendeinen Sinn?\n",
    "\n",
    "def count_safe_unsafe_invalid_str_contains(df):\n",
    "    \"\"\"Count occurrences of 'safe', 'unsafe', and 'invalid' in the 'llm_judgement' column using .str.contains().\"\"\"\n",
    "    safe = df['llm_judgement'].str.contains('safe', case=False, na=False).sum()\n",
    "    unsafe = df['llm_judgement'].str.contains('unsafe', case=False, na=False).sum()\n",
    "    invalid = df['llm_judgement'].str.contains('invalid', case=False, na=False).sum()\n",
    "    return safe, unsafe, invalid\n",
    "\n",
    "\n",
    "results = {}\n",
    "\n",
    "for task, path in df_filepaths.items():\n",
    "    df = pd.read_csv(path)\n",
    "    \n",
    "    # Count occurrences of 'safe', 'unsafe', and 'invalid' using value_counts()\n",
    "    safe_count, unsafe_count, invalid_count = count_safe_unsafe_invalid_counts(df)\n",
    "    \n",
    "    results[task] = {\n",
    "        'safe': safe_count,\n",
    "        'unsafe': unsafe_count, \n",
    "        'invalid': invalid_count\n",
    "    }\n",
    "    \n",
    "    print(f\"Task: {task}\")\n",
    "    print(f\"Safe: {safe_count}, Unsafe: {unsafe_count}, Invalid: {invalid_count}\")\n",
    "\n",
    "# cols: tasks and steer levels, rows: safe, unsafe, invalid countss\n",
    "results_df = pd.DataFrame.from_dict(results, orient='index').T\n",
    "\n",
    "print(\"\\nResults DataFrame:\")\n",
    "print(results_df)"
   ]
  }
 ],
 "metadata": {
  "language_info": {
   "name": "python"
  }
 },
 "nbformat": 4,
 "nbformat_minor": 5
}
